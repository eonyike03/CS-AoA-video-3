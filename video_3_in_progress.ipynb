{
  "nbformat": 4,
  "nbformat_minor": 0,
  "metadata": {
    "colab": {
      "provenance": [],
      "include_colab_link": true
    },
    "kernelspec": {
      "name": "python3",
      "display_name": "Python 3"
    },
    "language_info": {
      "name": "python"
    }
  },
  "cells": [
    {
      "cell_type": "markdown",
      "metadata": {
        "id": "view-in-github",
        "colab_type": "text"
      },
      "source": [
        "<a href=\"https://colab.research.google.com/github/eonyike03/CS-AoA-video-3/blob/main/video_3_in_progress.ipynb\" target=\"_parent\"><img src=\"https://colab.research.google.com/assets/colab-badge.svg\" alt=\"Open In Colab\"/></a>"
      ]
    },
    {
      "cell_type": "code",
      "source": [
        "# README\n",
        "# The first code defines the function maxCommonStr().\n",
        "# Users can change the strings for s1 and s2.\n",
        "# The output is the value of characters that are shared between the two strings.\n",
        "# The second code defines the function brute_force_lcs().\n",
        "# Users can change the strings for X and Y.\n",
        "# The output is the value of characters that are shared between the two strings and the common substring."
      ],
      "metadata": {
        "id": "JnUWuzks_85Q"
      },
      "execution_count": null,
      "outputs": []
    },
    {
      "cell_type": "code",
      "source": [
        "def maxCommonStr(s1, s2):\n",
        "    m, n = len(s1), len(s2)\n",
        "    # Create a 2D DP table with (m+1) rows and (n+1) columns\n",
        "    LCSuf = [[0] * (n + 1) for _ in range(m + 1)]\n",
        "    res = 0\n",
        "\n",
        "    for i in range(1, m + 1):\n",
        "        for j in range(1, n + 1):\n",
        "            if s1[i - 1] == s2[j - 1]:\n",
        "                LCSuf[i][j] = LCSuf[i - 1][j - 1] + 1\n",
        "                res = max(res, LCSuf[i][j])\n",
        "            else:\n",
        "                LCSuf[i][j] = 0  # reset since we're looking for substrings\n",
        "\n",
        "    return res\n",
        "\n",
        "# Example usage\n",
        "s1 = \"photography\"\n",
        "s2 = \"topography\"\n",
        "print(maxCommonStr(s1, s2))  # Output\n"
      ],
      "metadata": {
        "id": "kD9K2TJOyMHx",
        "colab": {
          "base_uri": "https://localhost:8080/"
        },
        "outputId": "5f326656-1e5d-4f09-ded4-d6081ded567f"
      },
      "execution_count": null,
      "outputs": [
        {
          "output_type": "stream",
          "name": "stdout",
          "text": [
            "7\n"
          ]
        }
      ]
    },
    {
      "cell_type": "code",
      "source": [
        "def brute_force_lcs(X, Y):\n",
        "    n, m = len(X), len(Y)\n",
        "    max_len = 0\n",
        "    longest = \"\"\n",
        "\n",
        "    for i in range(n):\n",
        "        for j in range(m):\n",
        "            k = 0\n",
        "            while i + k < n and j + k < m and X[i + k] == Y[j + k]:\n",
        "                k += 1\n",
        "            if k > max_len:\n",
        "                max_len = k\n",
        "                longest = X[i:i+k]\n",
        "\n",
        "\n",
        "\n",
        "    return max_len, longest\n",
        "\n",
        "X = \"abcdef\"\n",
        "Y = \"zcdemf\"\n",
        "\n",
        "print(brute_force_lcs(X,Y))\n"
      ],
      "metadata": {
        "colab": {
          "base_uri": "https://localhost:8080/"
        },
        "id": "v2WzV0Jz8OsU",
        "outputId": "d95941bf-9cee-40ab-c2c6-91a19ac349e2"
      },
      "execution_count": null,
      "outputs": [
        {
          "output_type": "stream",
          "name": "stdout",
          "text": [
            "(3, 'cde')\n"
          ]
        }
      ]
    }
  ]
}